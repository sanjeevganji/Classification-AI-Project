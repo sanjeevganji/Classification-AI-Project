{
  "nbformat": 4,
  "nbformat_minor": 0,
  "metadata": {
    "colab": {
      "name": "MajorProject.ipynb",
      "provenance": [],
      "collapsed_sections": [],
      "authorship_tag": "ABX9TyPVLPD4q4nKaJFosNWUreLq",
      "include_colab_link": true
    },
    "kernelspec": {
      "name": "python3",
      "display_name": "Python 3"
    },
    "language_info": {
      "name": "python"
    }
  },
  "cells": [
    {
      "cell_type": "markdown",
      "metadata": {
        "id": "view-in-github",
        "colab_type": "text"
      },
      "source": [
        "<a href=\"https://colab.research.google.com/github/sanjeevganji/Classification-AI-Project/blob/main/MajorProject.ipynb\" target=\"_parent\"><img src=\"https://colab.research.google.com/assets/colab-badge.svg\" alt=\"Open In Colab\"/></a>"
      ]
    },
    {
      "cell_type": "code",
      "execution_count": null,
      "metadata": {
        "id": "xKSdCa0-FdnP"
      },
      "outputs": [],
      "source": [
        "#SkillVertex Major Project by Ganji Sanjeev Raj\n",
        "\n",
        "#installing libraries\n",
        "\n",
        "from pandas import   read_csv\n",
        "from pandas.plotting   import scatter_matrix\n",
        "\n",
        "from matplotlib import   pyplot\n",
        "\n",
        "from   sklearn.model_selection import train_test_split\n",
        "from   sklearn.model_selection import cross_val_score\n",
        "from   sklearn.model_selection import StratifiedKFold\n",
        "from   sklearn.metrics         import classification_report\n",
        "from   sklearn.metrics         import confusion_matrix\n",
        "from   sklearn.metrics         import accuracy_score\n",
        "from   sklearn.linear_model    import LogisticRegression\n",
        "from   sklearn.tree            import   DecisionTreeClassifier\n",
        "from   sklearn.neighbors       import KNeighborsClassifier\n",
        "from   sklearn.discriminant_analysis import LinearDiscriminantAnalysis\n",
        "from   sklearn.naive_bayes     import GaussianNB\n",
        "from   sklearn.svm             import   SVC\n",
        "from   sklearn.ensemble        import RandomForestClassifier\n"
      ]
    },
    {
      "cell_type": "code",
      "source": [
        "import sys\n",
        "\n",
        "print('Python:   {}'.format(sys.version))\n",
        "\n",
        "# scipy\n",
        "\n",
        "import scipy\n",
        "\n",
        "print('scipy: {}'.format(scipy.__version__))\n",
        "\n",
        "# numpy\n",
        "\n",
        "import numpy\n",
        "\n",
        "print('numpy:   {}'.format(numpy.__version__))\n",
        "\n",
        "# matplotlib\n",
        "\n",
        "import matplotlib\n",
        "\n",
        "print('matplotlib:   {}'.format(matplotlib.__version__))\n",
        "\n",
        "# pandas\n",
        "\n",
        "import pandas\n",
        "\n",
        "print('pandas:   {}'.format(pandas.__version__))\n",
        "\n",
        "# scikit-learn\n",
        "\n",
        "import sklearn\n",
        "\n",
        "print('sklearn:   {}'.format(sklearn.__version__))\n",
        "\n",
        "#It is noted that the environment has been installed successfully. However some of the libraries are on updated versions."
      ],
      "metadata": {
        "colab": {
          "base_uri": "https://localhost:8080/"
        },
        "id": "FJHFzmksW3VW",
        "outputId": "99b2fd9a-1d3b-4bb1-de40-68784b82c77d"
      },
      "execution_count": null,
      "outputs": [
        {
          "output_type": "stream",
          "name": "stdout",
          "text": [
            "Python:   3.7.13 (default, Apr 24 2022, 01:04:09) \n",
            "[GCC 7.5.0]\n",
            "scipy: 1.4.1\n",
            "numpy:   1.21.6\n",
            "matplotlib:   3.2.2\n",
            "pandas:   1.3.5\n",
            "sklearn:   1.0.2\n"
          ]
        }
      ]
    },
    {
      "cell_type": "code",
      "source": [
        "#loading data set\n",
        "\n",
        "names = ['sepal-length',   'sepal-width', 'petal-length', 'petal-width', 'class']\n",
        "url = \"https://raw.githubusercontent.com/jbrownlee/Datasets/master/iris.csv\"\n",
        "\n",
        "df = read_csv(url , names=names)\n",
        "\n",
        "#dataset summary\n",
        "\n",
        "print(\"shape of data:\")\n",
        "print(df.shape)\n",
        "\n",
        "print(\"number of elements in data:\")\n",
        "print(df.size)\n"
      ],
      "metadata": {
        "colab": {
          "base_uri": "https://localhost:8080/"
        },
        "id": "YaV_HmkLmf9b",
        "outputId": "932d8247-9fcc-411b-b084-36b7c30d1e3e"
      },
      "execution_count": null,
      "outputs": [
        {
          "output_type": "stream",
          "name": "stdout",
          "text": [
            "shape of data:\n",
            "(150, 5)\n",
            "number of elements in data:\n",
            "750\n"
          ]
        }
      ]
    },
    {
      "cell_type": "code",
      "source": [
        "#peek at the data\n",
        "print(df.head(31))"
      ],
      "metadata": {
        "colab": {
          "base_uri": "https://localhost:8080/"
        },
        "id": "XAHfEzNoVx15",
        "outputId": "dfb472a3-1418-497f-8e11-1ce9267bc868"
      },
      "execution_count": null,
      "outputs": [
        {
          "output_type": "stream",
          "name": "stdout",
          "text": [
            "    sepal-length  sepal-width  petal-length  petal-width        class\n",
            "0            5.1          3.5           1.4          0.2  Iris-setosa\n",
            "1            4.9          3.0           1.4          0.2  Iris-setosa\n",
            "2            4.7          3.2           1.3          0.2  Iris-setosa\n",
            "3            4.6          3.1           1.5          0.2  Iris-setosa\n",
            "4            5.0          3.6           1.4          0.2  Iris-setosa\n",
            "5            5.4          3.9           1.7          0.4  Iris-setosa\n",
            "6            4.6          3.4           1.4          0.3  Iris-setosa\n",
            "7            5.0          3.4           1.5          0.2  Iris-setosa\n",
            "8            4.4          2.9           1.4          0.2  Iris-setosa\n",
            "9            4.9          3.1           1.5          0.1  Iris-setosa\n",
            "10           5.4          3.7           1.5          0.2  Iris-setosa\n",
            "11           4.8          3.4           1.6          0.2  Iris-setosa\n",
            "12           4.8          3.0           1.4          0.1  Iris-setosa\n",
            "13           4.3          3.0           1.1          0.1  Iris-setosa\n",
            "14           5.8          4.0           1.2          0.2  Iris-setosa\n",
            "15           5.7          4.4           1.5          0.4  Iris-setosa\n",
            "16           5.4          3.9           1.3          0.4  Iris-setosa\n",
            "17           5.1          3.5           1.4          0.3  Iris-setosa\n",
            "18           5.7          3.8           1.7          0.3  Iris-setosa\n",
            "19           5.1          3.8           1.5          0.3  Iris-setosa\n",
            "20           5.4          3.4           1.7          0.2  Iris-setosa\n",
            "21           5.1          3.7           1.5          0.4  Iris-setosa\n",
            "22           4.6          3.6           1.0          0.2  Iris-setosa\n",
            "23           5.1          3.3           1.7          0.5  Iris-setosa\n",
            "24           4.8          3.4           1.9          0.2  Iris-setosa\n",
            "25           5.0          3.0           1.6          0.2  Iris-setosa\n",
            "26           5.0          3.4           1.6          0.4  Iris-setosa\n",
            "27           5.2          3.5           1.5          0.2  Iris-setosa\n",
            "28           5.2          3.4           1.4          0.2  Iris-setosa\n",
            "29           4.7          3.2           1.6          0.2  Iris-setosa\n",
            "30           4.8          3.1           1.6          0.2  Iris-setosa\n"
          ]
        }
      ]
    },
    {
      "cell_type": "code",
      "source": [
        "print(df.groupby('class').count())"
      ],
      "metadata": {
        "colab": {
          "base_uri": "https://localhost:8080/"
        },
        "id": "2Y4kzF2eWhkW",
        "outputId": "a5ecbc73-46e0-443e-b7ef-fc84307527ad"
      },
      "execution_count": null,
      "outputs": [
        {
          "output_type": "stream",
          "name": "stdout",
          "text": [
            "                 sepal-length  sepal-width  petal-length  petal-width\n",
            "class                                                                \n",
            "Iris-setosa                50           50            50           50\n",
            "Iris-versicolor            50           50            50           50\n",
            "Iris-virginica             50           50            50           50\n"
          ]
        }
      ]
    },
    {
      "cell_type": "code",
      "source": [
        "print(df.groupby('class').size())\n",
        "\n",
        "#from the class distribution it is observed that the given data is equally divided between the three classes."
      ],
      "metadata": {
        "colab": {
          "base_uri": "https://localhost:8080/"
        },
        "id": "wly52vzeXWon",
        "outputId": "d3844057-2803-42ed-baf0-5faf0a1d064c"
      },
      "execution_count": null,
      "outputs": [
        {
          "output_type": "stream",
          "name": "stdout",
          "text": [
            "class\n",
            "Iris-setosa        50\n",
            "Iris-versicolor    50\n",
            "Iris-virginica     50\n",
            "dtype: int64\n"
          ]
        }
      ]
    },
    {
      "cell_type": "code",
      "source": [
        "#detailed desccription of the data\n",
        "print(df.describe())"
      ],
      "metadata": {
        "colab": {
          "base_uri": "https://localhost:8080/"
        },
        "id": "GbUl1w83XmFu",
        "outputId": "1403543a-df68-4567-87d0-1c4f64c383c1"
      },
      "execution_count": null,
      "outputs": [
        {
          "output_type": "stream",
          "name": "stdout",
          "text": [
            "       sepal-length  sepal-width  petal-length  petal-width\n",
            "count    150.000000   150.000000    150.000000   150.000000\n",
            "mean       5.843333     3.054000      3.758667     1.198667\n",
            "std        0.828066     0.433594      1.764420     0.763161\n",
            "min        4.300000     2.000000      1.000000     0.100000\n",
            "25%        5.100000     2.800000      1.600000     0.300000\n",
            "50%        5.800000     3.000000      4.350000     1.300000\n",
            "75%        6.400000     3.300000      5.100000     1.800000\n",
            "max        7.900000     4.400000      6.900000     2.500000\n"
          ]
        }
      ]
    },
    {
      "cell_type": "code",
      "source": [
        "  #visualizing the data:\n",
        "\n",
        "  #univariate plots\n",
        "  #ends of whiskers show minimum and maximum values \n",
        "  #ends of box show lower quartile and upper quartile values\n",
        "  #center of box shows median value\n",
        "\n",
        "  df.plot(kind='box',   subplots=True, layout=(2,2), sharex=False, sharey=False)\n",
        "\n",
        "pyplot.show()"
      ],
      "metadata": {
        "colab": {
          "base_uri": "https://localhost:8080/",
          "height": 267
        },
        "id": "cGOPRBAiYEVL",
        "outputId": "02920f22-afba-448e-b293-e8aee0f213f6"
      },
      "execution_count": null,
      "outputs": [
        {
          "output_type": "display_data",
          "data": {
            "text/plain": [
              "<Figure size 432x288 with 4 Axes>"
            ],
            "image/png": "[encoded data removed]"
          },
          "metadata": {
            "needs_background": "light"
          }
        }
      ]
    },
    {
      "cell_type": "code",
      "source": [
        "#line graphs\n",
        "\n",
        "df.plot(kind='line',   subplots=True, layout=(2,2), sharex=True, sharey=True)\n",
        "pyplot.show()"
      ],
      "metadata": {
        "colab": {
          "base_uri": "https://localhost:8080/",
          "height": 265
        },
        "id": "WBSwiLyfgkuW",
        "outputId": "b3074911-6c02-4dd6-d41a-17bb70a83f35"
      },
      "execution_count": null,
      "outputs": [
        {
          "output_type": "display_data",
          "data": {
            "text/plain": [
              "<Figure size 432x288 with 4 Axes>"
            ],
            "image/png": "[encoded data removed]"
          },
          "metadata": {
            "needs_background": "light"
          }
        }
      ]
    },
    {
      "cell_type": "code",
      "source": [
        "#histograms\n",
        "\n",
        "df.hist()\n",
        "\n",
        "pyplot.show()"
      ],
      "metadata": {
        "colab": {
          "base_uri": "https://localhost:8080/",
          "height": 281
        },
        "id": "4Ucemq9ChFrl",
        "outputId": "76233343-ae93-4803-9050-20aaf52b66dd"
      },
      "execution_count": null,
      "outputs": [
        {
          "output_type": "display_data",
          "data": {
            "text/plain": [
              "<Figure size 432x288 with 4 Axes>"
            ],
            "image/png": "[encoded data removed]"
          },
          "metadata": {
            "needs_background": "light"
          }
        }
      ]
    },
    {
      "cell_type": "code",
      "source": [
        "#scatter matrix plot\n",
        "\n",
        "scatter_matrix(df)\n",
        "\n",
        "pyplot.show()"
      ],
      "metadata": {
        "colab": {
          "base_uri": "https://localhost:8080/",
          "height": 286
        },
        "id": "dAbEEwH4heVI",
        "outputId": "e8ab1f44-593f-49b4-d730-cdcc0841c782"
      },
      "execution_count": null,
      "outputs": [
        {
          "output_type": "display_data",
          "data": {
            "text/plain": [
              "<Figure size 432x288 with 16 Axes>"
            ],
            "image/png": "[encoded data removed]"
          },
          "metadata": {
            "needs_background": "light"
          }
        }
      ]
    },
    {
      "cell_type": "code",
      "source": [
        "# evaluating the algorithms\n",
        "\n",
        "# splitting the data set into training and testing data\n",
        "\n",
        "#creating training data set\n",
        "\n",
        "array = df.values\n",
        "\n",
        "X = array[:,0:4]\n",
        "\n",
        "y = array[:,4]\n",
        "\n",
        "X_train, X_test,     Y_train, Y_test      = train_test_split(X, y, test_size=0.20, random_state=2)\n",
        "\n",
        "#testing data mentioned above will be used later"
      ],
      "metadata": {
        "id": "E-MRjd8Nn3ht"
      },
      "execution_count": null,
      "outputs": []
    },
    {
      "cell_type": "code",
      "source": [
        "#It is noted that 90% of the data is used for training while the remaining 10% for testing.\n",
        "\n",
        "# The following 6 algorithms are tested individually to find the most efficient one.\n",
        "#Logistic Regression (LR)\n",
        "#LinearDiscriminantAnalysis(LDA)\n",
        "#K-Nearest Neighbors (KNN).\n",
        "#Classification and Regression Trees (CART).\n",
        "#Gaussian Naive Bayes (NB).\n",
        "#Support Vector Machines (SVM)\n",
        "\n",
        "#Running each model seperately:"
      ],
      "metadata": {
        "id": "pDm5aYMonWyV"
      },
      "execution_count": null,
      "outputs": []
    },
    {
      "cell_type": "code",
      "source": [
        "models = []\n",
        "\n",
        "models.append(('LR',   LogisticRegression(solver='liblinear', multi_class='ovr')))\n",
        "\n",
        "results = []\n",
        "\n",
        "names = []\n",
        "\n",
        "for name, model in   models:\n",
        "  kfold = StratifiedKFold(n_splits=10, random_state=1,   shuffle=True)\n",
        "\n",
        "cv_results = cross_val_score(model, X_train, Y_train,   cv=kfold, scoring='accuracy')\n",
        "\n",
        "results.append(cv_results)\n",
        "\n",
        "names.append(name)\n",
        "\n",
        "print('%s: %f (%f)' % (name, cv_results.mean(),   cv_results.std()))"
      ],
      "metadata": {
        "colab": {
          "base_uri": "https://localhost:8080/"
        },
        "id": "wqxn5-8HyHXl",
        "outputId": "f515a9ac-8aeb-4444-d387-6f29814accb4"
      },
      "execution_count": null,
      "outputs": [
        {
          "output_type": "stream",
          "name": "stdout",
          "text": [
            "LR: 0.950000 (0.066667)\n"
          ]
        }
      ]
    },
    {
      "cell_type": "code",
      "source": [
        "#Box and Whiskers Plot\n",
        "pyplot.boxplot(results,   labels=names)\n",
        "\n",
        "pyplot.title('Algorithm   Comparison')\n",
        "\n",
        "pyplot.show()"
      ],
      "metadata": {
        "colab": {
          "base_uri": "https://localhost:8080/",
          "height": 281
        },
        "id": "iJOsiaJFyTS8",
        "outputId": "4040d4cb-1184-436d-e01d-daf8251cac01"
      },
      "execution_count": null,
      "outputs": [
        {
          "output_type": "display_data",
          "data": {
            "text/plain": [
              "<Figure size 432x288 with 1 Axes>"
            ],
            "image/png": "[encoded data removed]"
          },
          "metadata": {
            "needs_background": "light"
          }
        }
      ]
    },
    {
      "cell_type": "code",
      "source": [
        "models.append(('LDA',   LinearDiscriminantAnalysis()))\n",
        "\n",
        "results = []\n",
        "\n",
        "names = []\n",
        "\n",
        "for name, model in   models:\n",
        "  kfold = StratifiedKFold(n_splits=10, random_state=1,   shuffle=True)\n",
        "\n",
        "cv_results = cross_val_score(model, X_train, Y_train,   cv=kfold, scoring='accuracy')\n",
        "\n",
        "results.append(cv_results)\n",
        "\n",
        "names.append(name)\n",
        "\n",
        "print('%s: %f (%f)' % (name, cv_results.mean(),   cv_results.std()))\n",
        "\n"
      ],
      "metadata": {
        "colab": {
          "base_uri": "https://localhost:8080/"
        },
        "id": "Eq62eWcHMgor",
        "outputId": "bc41b233-29fa-4c62-8191-8bb17b3269aa"
      },
      "execution_count": null,
      "outputs": [
        {
          "output_type": "stream",
          "name": "stdout",
          "text": [
            "LDA: 0.975000 (0.053359)\n"
          ]
        }
      ]
    },
    {
      "cell_type": "code",
      "source": [
        "#Box and Whiskers Plot\n",
        "pyplot.boxplot(results,   labels=names)\n",
        "\n",
        "pyplot.title('Algorithm   Comparison')\n",
        "\n",
        "pyplot.show()"
      ],
      "metadata": {
        "colab": {
          "base_uri": "https://localhost:8080/",
          "height": 281
        },
        "id": "GZTGfzXKouZZ",
        "outputId": "a04ad3f7-290f-404e-ff48-153bee7470b9"
      },
      "execution_count": null,
      "outputs": [
        {
          "output_type": "display_data",
          "data": {
            "text/plain": [
              "<Figure size 432x288 with 1 Axes>"
            ],
            "image/png": "[encoded data removed]"
          },
          "metadata": {
            "needs_background": "light"
          }
        }
      ]
    },
    {
      "cell_type": "code",
      "source": [
        "models.append(('KNN',   KNeighborsClassifier()))\n",
        "\n",
        "results = []\n",
        "\n",
        "names = []\n",
        "\n",
        "for name, model in   models:\n",
        "  kfold = StratifiedKFold(n_splits=10, random_state=1,   shuffle=True)\n",
        "\n",
        "cv_results = cross_val_score(model, X_train, Y_train,   cv=kfold, scoring='accuracy')\n",
        "\n",
        "results.append(cv_results)\n",
        "\n",
        "names.append(name)\n",
        "\n",
        "print('%s: %f (%f)' % (name, cv_results.mean(),   cv_results.std()))\n",
        "\n",
        "\n"
      ],
      "metadata": {
        "colab": {
          "base_uri": "https://localhost:8080/"
        },
        "id": "FOuzxtkImYPg",
        "outputId": "18a4e881-6eec-4b2d-edc7-ee10155419d0"
      },
      "execution_count": null,
      "outputs": [
        {
          "output_type": "stream",
          "name": "stdout",
          "text": [
            "KNN: 0.950000 (0.066667)\n"
          ]
        }
      ]
    },
    {
      "cell_type": "code",
      "source": [
        "#Box and Whiskers Plot\n",
        "pyplot.boxplot(results,   labels=names)\n",
        "\n",
        "pyplot.title('Algorithm   Comparison')\n",
        "\n",
        "pyplot.show()"
      ],
      "metadata": {
        "colab": {
          "base_uri": "https://localhost:8080/",
          "height": 281
        },
        "id": "ghryCaSRotCc",
        "outputId": "402c4c7c-78a4-4813-e92e-cb1db5085424"
      },
      "execution_count": null,
      "outputs": [
        {
          "output_type": "display_data",
          "data": {
            "text/plain": [
              "<Figure size 432x288 with 1 Axes>"
            ],
            "image/png": "[encoded data removed]"
          },
          "metadata": {
            "needs_background": "light"
          }
        }
      ]
    },
    {
      "cell_type": "code",
      "source": [
        "models.append(('CART',   DecisionTreeClassifier()))\n",
        "\n",
        "results = []\n",
        "\n",
        "names = []\n",
        "\n",
        "for name, model in   models:\n",
        "  kfold = StratifiedKFold(n_splits=10, random_state=1,   shuffle=True)\n",
        "\n",
        "cv_results = cross_val_score(model, X_train, Y_train,   cv=kfold, scoring='accuracy')\n",
        "\n",
        "results.append(cv_results)\n",
        "\n",
        "names.append(name)\n",
        "\n",
        "print('%s: %f (%f)' % (name, cv_results.mean(),   cv_results.std()))\n",
        "\n"
      ],
      "metadata": {
        "colab": {
          "base_uri": "https://localhost:8080/"
        },
        "id": "VIgxQ6nHmjpn",
        "outputId": "e48f5bb6-b7ad-4736-d3a5-5a700c89da61"
      },
      "execution_count": null,
      "outputs": [
        {
          "output_type": "stream",
          "name": "stdout",
          "text": [
            "CART: 0.941667 (0.065085)\n"
          ]
        }
      ]
    },
    {
      "cell_type": "code",
      "source": [
        "#Box and Whiskers Plot\n",
        "pyplot.boxplot(results,   labels=names)\n",
        "\n",
        "pyplot.title('Algorithm   Comparison')\n",
        "\n",
        "pyplot.show()"
      ],
      "metadata": {
        "colab": {
          "base_uri": "https://localhost:8080/",
          "height": 281
        },
        "id": "zaSCgFwDosOB",
        "outputId": "e5150b86-9ce1-4bab-bab8-1ec7c2f60364"
      },
      "execution_count": null,
      "outputs": [
        {
          "output_type": "display_data",
          "data": {
            "text/plain": [
              "<Figure size 432x288 with 1 Axes>"
            ],
            "image/png": "[encoded data removed]"
          },
          "metadata": {
            "needs_background": "light"
          }
        }
      ]
    },
    {
      "cell_type": "code",
      "source": [
        "models.append(('NB',   GaussianNB()))\n",
        "\n",
        "results = []\n",
        "\n",
        "names = []\n",
        "\n",
        "for name, model in   models:\n",
        "  kfold = StratifiedKFold(n_splits=10, random_state=1,   shuffle=True)\n",
        "\n",
        "cv_results = cross_val_score(model, X_train, Y_train,   cv=kfold, scoring='accuracy')\n",
        "\n",
        "results.append(cv_results)\n",
        "\n",
        "names.append(name)\n",
        "\n",
        "print('%s: %f (%f)' % (name, cv_results.mean(),   cv_results.std()))"
      ],
      "metadata": {
        "colab": {
          "base_uri": "https://localhost:8080/"
        },
        "id": "OyTOSFKkmr0M",
        "outputId": "30640181-1d25-4fd3-be63-1b92b0419179"
      },
      "execution_count": null,
      "outputs": [
        {
          "output_type": "stream",
          "name": "stdout",
          "text": [
            "NB: 0.950000 (0.066667)\n"
          ]
        }
      ]
    },
    {
      "cell_type": "code",
      "source": [
        "#Box and Whiskers Plot\n",
        "pyplot.boxplot(results,   labels=names)\n",
        "\n",
        "pyplot.title('Algorithm   Comparison')\n",
        "\n",
        "pyplot.show()"
      ],
      "metadata": {
        "colab": {
          "base_uri": "https://localhost:8080/",
          "height": 281
        },
        "id": "xTnj2Ha-oq6p",
        "outputId": "0e4584ba-f602-48e8-a7f9-0041ff7ad9cc"
      },
      "execution_count": null,
      "outputs": [
        {
          "output_type": "display_data",
          "data": {
            "text/plain": [
              "<Figure size 432x288 with 1 Axes>"
            ],
            "image/png": "[encoded data removed]"
          },
          "metadata": {
            "needs_background": "light"
          }
        }
      ]
    },
    {
      "cell_type": "code",
      "source": [
        "models.append(('SVM',   SVC(gamma='auto')))\n",
        "\n",
        "results = []\n",
        "\n",
        "names = []\n",
        "\n",
        "for name, model in   models:\n",
        "  kfold = StratifiedKFold(n_splits=10, random_state=1,   shuffle=True)\n",
        "\n",
        "cv_results = cross_val_score(model, X_train, Y_train,   cv=kfold, scoring='accuracy')\n",
        "\n",
        "results.append(cv_results)\n",
        "\n",
        "names.append(name)\n",
        "\n",
        "print('%s: %f (%f)' % (name, cv_results.mean(),   cv_results.std()))"
      ],
      "metadata": {
        "colab": {
          "base_uri": "https://localhost:8080/"
        },
        "id": "P-AEUBezykOC",
        "outputId": "821711f2-9665-4f71-f971-d5e45b8a6d7e"
      },
      "execution_count": null,
      "outputs": [
        {
          "output_type": "stream",
          "name": "stdout",
          "text": [
            "SVM: 0.966667 (0.055277)\n"
          ]
        }
      ]
    },
    {
      "cell_type": "code",
      "source": [
        "#Box and Whiskers Plot\n",
        "pyplot.boxplot(results,   labels=names)\n",
        "\n",
        "pyplot.title('Algorithm   Comparison')\n",
        "\n",
        "pyplot.show()"
      ],
      "metadata": {
        "colab": {
          "base_uri": "https://localhost:8080/",
          "height": 281
        },
        "id": "bHYjTllWymTO",
        "outputId": "0636a351-99ff-45fe-958b-e6521525eac9"
      },
      "execution_count": null,
      "outputs": [
        {
          "output_type": "display_data",
          "data": {
            "text/plain": [
              "<Figure size 432x288 with 1 Axes>"
            ],
            "image/png": "[encoded data removed]"
          },
          "metadata": {
            "needs_background": "light"
          }
        }
      ]
    },
    {
      "cell_type": "code",
      "source": [
        "#It is observed that Linear Discriminant Analysis LDA is best. Hence we will re-initiate the algorithm under a new name."
      ],
      "metadata": {
        "id": "mxmwrdC7ynvW"
      },
      "execution_count": null,
      "outputs": []
    },
    {
      "cell_type": "code",
      "source": [
        "models.append(('Best',   LinearDiscriminantAnalysis()))\n",
        "\n",
        "results = []\n",
        "\n",
        "names = []\n",
        "\n",
        "for name, model in   models:\n",
        "  kfold = StratifiedKFold(n_splits=10, random_state=1,   shuffle=True)\n",
        "\n",
        "cv_results = cross_val_score(model, X_train, Y_train,   cv=kfold, scoring='accuracy')\n",
        "\n",
        "results.append(cv_results)\n",
        "\n",
        "names.append(name)\n",
        "\n",
        "print('%s: %f (%f)' % (name, cv_results.mean(),   cv_results.std()))\n",
        "\n",
        "\n"
      ],
      "metadata": {
        "colab": {
          "base_uri": "https://localhost:8080/"
        },
        "id": "-nybThZmth4k",
        "outputId": "e8892226-0a34-42fc-9fe9-75a005f159ee"
      },
      "execution_count": null,
      "outputs": [
        {
          "output_type": "stream",
          "name": "stdout",
          "text": [
            "Best: 0.975000 (0.053359)\n"
          ]
        }
      ]
    },
    {
      "cell_type": "code",
      "source": [
        "#Box and Whiskers Plot\n",
        "pyplot.boxplot(results,   labels=names)\n",
        "\n",
        "pyplot.title('Algorithm   Comparison')\n",
        "\n",
        "pyplot.show()"
      ],
      "metadata": {
        "colab": {
          "base_uri": "https://localhost:8080/",
          "height": 281
        },
        "id": "6H-u86Cun8fl",
        "outputId": "dc58aec4-c137-42ad-c9f3-29b90b386366"
      },
      "execution_count": null,
      "outputs": [
        {
          "output_type": "display_data",
          "data": {
            "text/plain": [
              "<Figure size 432x288 with 1 Axes>"
            ],
            "image/png": "[encoded data removed]"
          },
          "metadata": {
            "needs_background": "light"
          }
        }
      ]
    },
    {
      "cell_type": "code",
      "source": [
        "#From the above results a safe prediction is made that LinearDiscriminantAnalysis(LDA) is the most accurate model for the given data set.\n",
        "\n",
        "#Validating the results:\n",
        "\n",
        "model = LinearDiscriminantAnalysis()\n",
        "\n",
        "model.fit(X_train,   Y_train)\n",
        "\n",
        "predictions =   model.predict(X_test)"
      ],
      "metadata": {
        "id": "HayDJgUEsmjK"
      },
      "execution_count": null,
      "outputs": []
    },
    {
      "cell_type": "code",
      "source": [
        "print(accuracy_score(Y_test,   predictions))\n",
        "\n",
        "print(confusion_matrix(Y_test,   predictions))\n",
        "\n",
        "print(classification_report(Y_test,   predictions))"
      ],
      "metadata": {
        "colab": {
          "base_uri": "https://localhost:8080/"
        },
        "id": "XjNfVH3otDI6",
        "outputId": "f8dd47bc-1246-4c0f-ddbf-3fcb79efba5d"
      },
      "execution_count": null,
      "outputs": [
        {
          "output_type": "stream",
          "name": "stdout",
          "text": [
            "1.0\n",
            "[[14  0  0]\n",
            " [ 0  8  0]\n",
            " [ 0  0  8]]\n",
            "                 precision    recall  f1-score   support\n",
            "\n",
            "    Iris-setosa       1.00      1.00      1.00        14\n",
            "Iris-versicolor       1.00      1.00      1.00         8\n",
            " Iris-virginica       1.00      1.00      1.00         8\n",
            "\n",
            "       accuracy                           1.00        30\n",
            "      macro avg       1.00      1.00      1.00        30\n",
            "   weighted avg       1.00      1.00      1.00        30\n",
            "\n"
          ]
        }
      ]
    },
    {
      "cell_type": "code",
      "source": [
        "#It is very interesting that the selected model gives a 100% accuracy on the testing sample.\n",
        "\n",
        "#Thus marks the end of the Major project. Thank you.\n",
        "\n",
        "#NAME: GANJI SANJEEV RAJ\n",
        "\n",
        "#INSTITUTE: IIT KHARAGPUR\n",
        "\n",
        "#DATE: 05-06-2022\n",
        "\n",
        "#CONTACT: 9182043099 / SANJEEVRAJGANJI@GMAIL.COM\n"
      ],
      "metadata": {
        "id": "914-CL1nzJne"
      },
      "execution_count": null,
      "outputs": []
    }
  ]
}